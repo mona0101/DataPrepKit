{
 "cells": [
  {
   "cell_type": "code",
   "execution_count": 174,
   "id": "00a8d807",
   "metadata": {},
   "outputs": [],
   "source": [
    "import numpy as np\n",
    "import pandas as pd"
   ]
  },
  {
   "cell_type": "markdown",
   "id": "3a25f8bf",
   "metadata": {},
   "source": [
    "# Testing "
   ]
  },
  {
   "cell_type": "code",
   "execution_count": null,
   "id": "9247bdef",
   "metadata": {},
   "outputs": [],
   "source": [
    "file_path = input(\"Enter the file path without quotes: \")\n",
    "\n",
    "if 'csv' in file_path.lower():\n",
    "    dataFrame = read_csv(file_path)\n",
    "    display(dataFrame)\n",
    "    \n",
    "elif 'xlsx' in file_path.lower() or 'xls' in file_path.lower():\n",
    "    dataFrame = read_excel(file_path)\n",
    "    display(dataFrame)\n",
    "    \n",
    "elif 'json' in file_path.lower():\n",
    "    dataFrame = read_json(file_path)\n",
    "    display(dataFrame)\n",
    "else:\n",
    "    print(\"Unsupported file type.\")\n"
   ]
  },
  {
   "cell_type": "code",
   "execution_count": null,
   "id": "8d0077b7",
   "metadata": {},
   "outputs": [],
   "source": [
    "display(metrics(dataFrame))#  key statistical summaries of the data"
   ]
  },
  {
   "cell_type": "code",
   "execution_count": null,
   "id": "aab334b0",
   "metadata": {},
   "outputs": [],
   "source": [
    "display(summary(dataFrame)) ## another way for full summary "
   ]
  },
  {
   "cell_type": "code",
   "execution_count": null,
   "id": "c64a205c",
   "metadata": {},
   "outputs": [],
   "source": [
    "display(mode(dataFrame)) # printing only the mode"
   ]
  },
  {
   "cell_type": "code",
   "execution_count": null,
   "id": "11db26de",
   "metadata": {},
   "outputs": [],
   "source": [
    "display(info(dataFrame))# to understand the structure of the data frame and the types of the columns\n"
   ]
  },
  {
   "cell_type": "code",
   "execution_count": null,
   "id": "cf74ef2f",
   "metadata": {},
   "outputs": [],
   "source": [
    "print(count_NA(dataFrame)) # to count the number of NA in the data"
   ]
  },
  {
   "cell_type": "code",
   "execution_count": null,
   "id": "ad5b6129",
   "metadata": {},
   "outputs": [],
   "source": [
    "column_name = str(input(\"Enter column name that you want to fill: \")).strip()\n",
    "display(replace_na_with_mean(dataFrame,column_name))# Replace missing values in a specified column with the mean "
   ]
  },
  {
   "cell_type": "code",
   "execution_count": null,
   "id": "aaaa4587",
   "metadata": {},
   "outputs": [],
   "source": [
    "column_name = str(input(\"Enter column name that you want to fill: \")).strip()\n",
    "display(replace_na_with_mode(dataFrame,column_name))# Replace missing values in a specified column with the mode "
   ]
  },
  {
   "cell_type": "code",
   "execution_count": null,
   "id": "730ca7ed",
   "metadata": {},
   "outputs": [],
   "source": [
    "display(drop_NA(dataFrame)) # or just drop NA , "
   ]
  },
  {
   "cell_type": "code",
   "execution_count": null,
   "id": "cab5f280",
   "metadata": {},
   "outputs": [],
   "source": [
    "display(encode_categorical(dataFrame)) #Categorical Data Encoding:\n"
   ]
  },
  {
   "cell_type": "markdown",
   "id": "aafa8763",
   "metadata": {},
   "source": [
    "# functions "
   ]
  },
  {
   "cell_type": "code",
   "execution_count": null,
   "id": "28c1e5b5",
   "metadata": {},
   "outputs": [],
   "source": [
    "def read_csv(file_path_name):\n",
    "    \"\"\"\n",
    "    Read a CSV file and return its contents as a DataFrame.\n",
    "\n",
    "    Parameters:\n",
    "    - file_path_name (str): Path to the CSV file.\n",
    "\n",
    "    Returns:\n",
    "    - pandas.DataFrame: DataFrame with CSV data.\n",
    "\n",
    "    Prints an error message if the file is not found or if an exception occurs during reading.\n",
    "    Returns None in case of errors.\n",
    "    \"\"\"\n",
    "    try:\n",
    "        return pd.read_csv(file_path_name)\n",
    "    except FileNotFoundError:\n",
    "        print(f\"Error: File '{file_path_name}' not found.\")\n",
    "        return None\n",
    "    except Exception as e:\n",
    "        print(f\"Error reading CSV file '{file_path_name}': {e}\")\n",
    "        return None\n"
   ]
  },
  {
   "cell_type": "code",
   "execution_count": null,
   "id": "0fb89b50",
   "metadata": {},
   "outputs": [],
   "source": [
    "def read_excel(file_path_name, sheet_name=0):\n",
    "    \"\"\"\n",
    "    Read data from an Excel file and return it as a DataFrame.\n",
    "\n",
    "    Parameters:\n",
    "    - file_path_name (str): Path to the Excel file.\n",
    "    - sheet_name (str or int, optional): Name or index of the sheet to read. Defaults to 0.\n",
    "\n",
    "    Returns:\n",
    "    - pandas.DataFrame: DataFrame with Excel data.\n",
    "\n",
    "    Prints an error message if the file is not found or if an exception occurs during reading.\n",
    "    Returns None in case of errors.\n",
    "    \"\"\"\n",
    "    try:\n",
    "        return pd.read_excel(file_path_name, sheet_name=sheet_name)\n",
    "    except FileNotFoundError:\n",
    "        print(f\"Error: File '{file_path_name}' not found.\")\n",
    "        return None\n",
    "    except Exception as e:\n",
    "        print(f\"Error reading Excel file '{file_path_name}': {e}\")\n",
    "        return None\n"
   ]
  },
  {
   "cell_type": "code",
   "execution_count": null,
   "id": "cd8d2d92",
   "metadata": {},
   "outputs": [],
   "source": [
    "def read_json(file_path_name):\n",
    "    \"\"\"\n",
    "    Read data from a JSON file and return it as DataFrame.\n",
    "\n",
    "    Parameters:\n",
    "    - file_path_name (str): Path to the JSON file.\n",
    "\n",
    "    Returns:\n",
    "    - pandas.DataFrame: DataFrame with JSON data.\n",
    "\n",
    "    Prints an error message if the file is not found or if an exception occurs during reading.\n",
    "    Returns None in case of errors.\n",
    "    \"\"\"\n",
    "    try:\n",
    "        return pd.read_json(file_path_name)\n",
    "    except FileNotFoundError:\n",
    "        print(f\"Error: File '{file_path_name}' not found.\")\n",
    "        return None\n",
    "    except Exception as e:\n",
    "        print(f\"Error reading JSON file '{file_path_name}': {e}\")\n",
    "        return None"
   ]
  },
  {
   "cell_type": "markdown",
   "id": "a68db3f5",
   "metadata": {},
   "source": [
    "# Data Summary functions"
   ]
  },
  {
   "cell_type": "code",
   "execution_count": null,
   "id": "96d610d8",
   "metadata": {},
   "outputs": [],
   "source": [
    "def summary(dataframe):\n",
    "    \"\"\"\n",
    "    Generate summary statistics of the DataFrame.\n",
    "\n",
    "    Parameters:\n",
    "    - dataframe (pandas.DataFrame): The DataFrame to summarize.\n",
    "\n",
    "    Returns:\n",
    "    - pandas.DataFrame: Summary statistics \n",
    "    \"\"\"\n",
    "    return dataframe.describe()\n"
   ]
  },
  {
   "cell_type": "code",
   "execution_count": null,
   "id": "5e944799",
   "metadata": {},
   "outputs": [],
   "source": [
    "def metrics(df):\n",
    "    \"\"\"\n",
    "    Returns basic summary statistics of a DataFrame.\n",
    "\n",
    "    Args:\n",
    "        df (pandas.DataFrame): The DataFrame to summarize.\n",
    "\n",
    "    Returns:\n",
    "        pandas.DataFrame: Summary statistics DataFrame.\n",
    "    \"\"\"\n",
    "    summary_stats = []\n",
    "\n",
    "    for col in df.select_dtypes(include=[np.number]):\n",
    "        stats = {\n",
    "            \"Column\": col,\n",
    "            \"Mean\": df[col].mean(),\n",
    "            \"Median\": df[col].median(),\n",
    "            \"Mode\": df[col].mode().iloc[0], \n",
    "            \"Standard Deviation\": df[col].std()\n",
    "        }\n",
    "        summary_stats.append(stats)\n",
    "\n",
    "    return pd.DataFrame(summary_stats)"
   ]
  },
  {
   "cell_type": "code",
   "execution_count": null,
   "id": "cb6a86b9",
   "metadata": {},
   "outputs": [],
   "source": [
    "def mode(dataframe):\n",
    "    \"\"\"\n",
    "    Get the mode(s) of the DataFrame.\n",
    "\n",
    "    Parameters:\n",
    "    - dataframe (pandas.DataFrame): The DataFrame to find the mode(s) of.\n",
    "\n",
    "    Returns:\n",
    "    - pandas.Series or pandas.DataFrame: The mode(s) of the DataFrame.\n",
    "    \"\"\"\n",
    "    return dataframe.mode()"
   ]
  },
  {
   "cell_type": "code",
   "execution_count": null,
   "id": "c4638158",
   "metadata": {},
   "outputs": [],
   "source": [
    "def info(dataframe):\n",
    "    \"\"\"\n",
    "    This method returns information about a DataFrame.\n",
    "    \n",
    "    Parameters:\n",
    "        dataframe (pandas.DataFrame): The DataFrame to get information about.\n",
    "        \n",
    "    Returns:\n",
    "        str: A string containing information about the DataFrame.\n",
    "    \"\"\"\n",
    "    return dataframe.info()"
   ]
  },
  {
   "cell_type": "code",
   "execution_count": null,
   "id": "58a79344",
   "metadata": {},
   "outputs": [],
   "source": []
  },
  {
   "cell_type": "markdown",
   "id": "de0119b8",
   "metadata": {},
   "source": [
    "# Handling Missing Values:"
   ]
  },
  {
   "cell_type": "code",
   "execution_count": null,
   "id": "af1ac698",
   "metadata": {},
   "outputs": [],
   "source": [
    "def count_NA(dataFrame):\n",
    "    \"\"\"\n",
    "    Count the number of missing values in a DataFrame.\n",
    "\n",
    "    Parameters:\n",
    "    df (pandas.DataFrame): The DataFrame to analyze.\n",
    "\n",
    "    Returns:\n",
    "    int: The total number of missing values.\n",
    "    \"\"\"\n",
    "    return dataFrame.isnull().sum().sum()"
   ]
  },
  {
   "cell_type": "code",
   "execution_count": null,
   "id": "e7469750",
   "metadata": {},
   "outputs": [],
   "source": [
    "def drop_NA(dataFrame):\n",
    "    \"\"\"\n",
    "    Remove rows with missing values from the data.\n",
    "\n",
    "    Parameters:\n",
    "    - df (pandas.DataFrame): Data to be cleaned.\n",
    "\n",
    "    Returns:\n",
    "    - pandas.DataFrame: Cleaned data without any missing values.\n",
    "    \"\"\"\n",
    "    return dataFrame.dropna()"
   ]
  },
  {
   "cell_type": "code",
   "execution_count": null,
   "id": "80a177dc",
   "metadata": {},
   "outputs": [],
   "source": [
    "def replace_na_with_mean(df, column_name):\n",
    "    \"\"\"\n",
    "    Replace missing values in a specified column with the mean of that column.\n",
    "\n",
    "    Parameters:\n",
    "    df (pandas.DataFrame): The DataFrame containing the column.\n",
    "    column_name (str): The name of the column to process.\n",
    "\n",
    "    Returns:\n",
    "    pandas.DataFrame: DataFrame with missing values replaced by column mean.\n",
    "    \"\"\"\n",
    "    df[column_name] = df[column_name].fillna(df[column_name].mean())\n",
    "    return df"
   ]
  },
  {
   "cell_type": "code",
   "execution_count": null,
   "id": "4521e9e7",
   "metadata": {},
   "outputs": [],
   "source": [
    "def replace_na_with_median(df, column_name):\n",
    "    \"\"\"\n",
    "    Replace missing values in a specified column with the median.\n",
    "\n",
    "    Parameters:\n",
    "    df (pandas.DataFrame): The DataFrame containing the column.\n",
    "    column_name (str): The name of the column to process.\n",
    "\n",
    "    Returns:\n",
    "    pandas.DataFrame: DataFrame with missing values replaced by column median.\n",
    "    \"\"\"\n",
    "    df[column_name] = df[column_name].fillna(df[column_name].median())\n",
    "    return df\n"
   ]
  },
  {
   "cell_type": "code",
   "execution_count": null,
   "id": "61dd049c",
   "metadata": {},
   "outputs": [],
   "source": [
    "def replace_na_with_mode(df, column_name):\n",
    "    \"\"\"\n",
    "    Replace missing values in a specified column with the mode of that column.\n",
    "\n",
    "    Parameters:\n",
    "    df (pandas.DataFrame): The DataFrame containing the column.\n",
    "    column_name (str): The name of the column to process.\n",
    "\n",
    "    Returns:\n",
    "    pandas.DataFrame: DataFrame with missing values replaced by column mode.\n",
    "    \"\"\"\n",
    "    df[column_name].fillna(df[column_name].mode()[0], inplace=True)\n",
    "    return df"
   ]
  },
  {
   "cell_type": "markdown",
   "id": "67ce3725",
   "metadata": {},
   "source": [
    "# Categorical Data Encoding:"
   ]
  },
  {
   "cell_type": "code",
   "execution_count": null,
   "id": "b8ea504b",
   "metadata": {},
   "outputs": [],
   "source": [
    "def encode_categorical(df):\n",
    "    \"\"\"\n",
    "    Encodes categorical columns in a DataFrame.\n",
    "\n",
    "    Parameters:\n",
    "    df : DataFrame\n",
    "        Input DataFrame with categorical columns to be encoded.\n",
    "\n",
    "    Returns:\n",
    "     DataFrame\n",
    "        DataFrame with categorical columns encoded.\n",
    "    \"\"\"\n",
    "    categorical_columns = df.select_dtypes(include=['object']).columns\n",
    "    encoded_df = pd.get_dummies(df, columns=categorical_columns)\n",
    "    return encoded_df"
   ]
  }
 ],
 "metadata": {
  "kernelspec": {
   "display_name": "Python 3 (ipykernel)",
   "language": "python",
   "name": "python3"
  },
  "language_info": {
   "codemirror_mode": {
    "name": "ipython",
    "version": 3
   },
   "file_extension": ".py",
   "mimetype": "text/x-python",
   "name": "python",
   "nbconvert_exporter": "python",
   "pygments_lexer": "ipython3",
   "version": "3.10.9"
  }
 },
 "nbformat": 4,
 "nbformat_minor": 5
}
